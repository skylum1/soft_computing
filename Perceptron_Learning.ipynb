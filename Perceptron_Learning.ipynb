{
  "nbformat": 4,
  "nbformat_minor": 0,
  "metadata": {
    "colab": {
      "name": "Perceptron_Learning.ipynb",
      "provenance": [],
      "collapsed_sections": [],
      "authorship_tag": "ABX9TyOfBuDme4J69TTijvfkKx6f",
      "include_colab_link": true
    },
    "kernelspec": {
      "name": "python3",
      "display_name": "Python 3"
    },
    "language_info": {
      "name": "python"
    }
  },
  "cells": [
    {
      "cell_type": "markdown",
      "metadata": {
        "id": "view-in-github",
        "colab_type": "text"
      },
      "source": [
        "<a href=\"https://colab.research.google.com/github/skylum1/soft_computing/blob/main/Perceptron_Learning.ipynb\" target=\"_parent\"><img src=\"https://colab.research.google.com/assets/colab-badge.svg\" alt=\"Open In Colab\"/></a>"
      ]
    },
    {
      "cell_type": "code",
      "metadata": {
        "id": "0GzvqgwK7vZ4"
      },
      "source": [
        "from __future__ import print_function\n",
        "import string\n",
        "from PIL import Image\n",
        "from PIL import ImageFont\n",
        "from PIL import ImageDraw\n",
        "import random\n",
        "import numpy as np\n"
      ],
      "execution_count": null,
      "outputs": []
    },
    {
      "cell_type": "code",
      "metadata": {
        "id": "EybP4xCMI-j_"
      },
      "source": [
        "def display(arr):\n",
        "    result = np.where(arr, '#', ' ')\n",
        "    print(arr)\n",
        "    print('\\n'.join([''.join(row) for row in result]))"
      ],
      "execution_count": null,
      "outputs": []
    },
    {
      "cell_type": "code",
      "metadata": {
        "id": "iIronwqZ78H9"
      },
      "source": [
        "def pixelify(text, path='arialbd.ttf', fontsize=14):\n",
        "\n",
        "    font = ImageFont.truetype(path, fontsize) \n",
        "    w, h = font.getsize(text)  \n",
        "    h *= 2\n",
        "    image = Image.new('1', (w, h), 1)  \n",
        "    draw = ImageDraw.Draw(image)\n",
        "    draw.text((0, 0), text, font=font) \n",
        "    arr = np.asarray(image)\n",
        "    # print(arr)\n",
        "    arr = np.where(arr, -1, 1)\n",
        "    arr = arr[(arr != -1).any(axis=1)]\n",
        "    arr=np.pad(arr, ((0, 15-arr.shape[0]), (0, 16-arr.shape[1])), 'constant')\n",
        "    return arr"
      ],
      "execution_count": null,
      "outputs": []
    },
    {
      "cell_type": "code",
      "metadata": {
        "id": "6Aem7i1T0FlS"
      },
      "source": [
        "def initalize_parameters():\n",
        "  weights=np.zeros((15*16,5))\n",
        "  biases=np.zeros((1,5))\n",
        "  parameters ={\n",
        "      \"w\": weights,\n",
        "      \"b\":biases\n",
        "  }\n",
        "  return parameters"
      ],
      "execution_count": null,
      "outputs": []
    },
    {
      "cell_type": "code",
      "metadata": {
        "id": "gvhut9u67LXf"
      },
      "source": [
        "def generate_training_matrix(case='alphabet'):\n",
        "  output =[]\n",
        "  required_outputs=[]\n",
        "  digits='0123456789'\n",
        "  if case=='alphabet':\n",
        "     for c in string.ascii_uppercase:\n",
        "      arr = pixelify(\n",
        "          c, \n",
        "          path='/content/Roboto-Light.ttf', \n",
        "          fontsize=18)\n",
        "      arr=arr.reshape(-1,)\n",
        "      output.append(arr)\n",
        "      i=ord(c)-ord('A')\n",
        "      ls=np.array([int(dc) for dc in bin(i)[2:]])\n",
        "      ls=np.where(ls,1,-1)\n",
        "      ls=np.pad(ls,(5-ls.shape[0],0 ), 'constant',constant_values=(-1,0))\n",
        "      required_outputs.append(ls)\n",
        "      # print(output)\n",
        "  else:\n",
        "    for c in digits:\n",
        "      arr = pixelify(\n",
        "          c, \n",
        "          path='/content/Roboto-Light.ttf', \n",
        "          fontsize=18)\n",
        "      arr=arr.reshape(-1,)\n",
        "      output.append(arr)\n",
        "      i=ord(c)-ord('0')\n",
        "      ls=np.array([int(dc) for dc in bin(i)[2:]])\n",
        "      ls=np.where(ls,1,-1)\n",
        "      ls=np.pad(ls,(5-ls.shape[0],0 ), 'constant',constant_values=(-1,0))\n",
        "      required_outputs.append(ls)\n",
        " \n",
        "  yt=np.asarray(output)\n",
        "  ls=np.asarray(required_outputs)\n",
        "  return yt,ls\n",
        "\n"
      ],
      "execution_count": null,
      "outputs": []
    },
    {
      "cell_type": "code",
      "metadata": {
        "id": "FYTL9KEQX8Fd"
      },
      "source": [
        "def activation(ar,theta=0.2):\n",
        "  \n",
        "  for i in range(ar.size): \n",
        "    if ar[0,i]>theta:\n",
        "       ar[0,i]= 1\n",
        "    elif ar[0,i]<-theta:\n",
        "       ar[0,i]= -1\n",
        "    else: \n",
        "     ar[0,i]= 0;  \n",
        "  return ar\n"
      ],
      "execution_count": null,
      "outputs": []
    },
    {
      "cell_type": "code",
      "metadata": {
        "id": "QAixLPVxQ01H"
      },
      "source": [
        "# training weights for alphabet recognition\n",
        "train,output=generate_training_matrix()\n",
        "parameters=initalize_parameters()\n",
        "weights=parameters[\"w\"]\n",
        "b=parameters[\"b\"]\n",
        "alpha=1\n",
        "for k in range(0,23):\n",
        "  for j in range(0,26):\n",
        "    mul=activation(np.dot(train[j,:],weights)+b)\n",
        "    for i in range(0,mul.size):\n",
        "      if mul[0,i]!=output[j,i]:\n",
        "        weights[:,i]= weights[:,i]+alpha*output[j,i]*train[j,:]\n",
        "        b[0,i]=b[0,i]+alpha*output[j,i]\n"
      ],
      "execution_count": null,
      "outputs": []
    },
    {
      "cell_type": "code",
      "metadata": {
        "id": "JW8Pr7AMVz-7"
      },
      "source": [
        "def array_to_int(arr):\n",
        "  b=np.where(arr!=-1,1,0)\n",
        "  ans=b.dot(1 << np.arange(b.size)[::-1])\n",
        "  return ans\n",
        "    "
      ],
      "execution_count": null,
      "outputs": []
    },
    {
      "cell_type": "code",
      "metadata": {
        "colab": {
          "base_uri": "https://localhost:8080/"
        },
        "id": "F8d96QElwlDH",
        "outputId": "d1f26404-2c25-4144-96a0-8d0a906d02d5"
      },
      "source": [
        " ## Validation \n",
        " for i in range(0,26):\n",
        "  mul=activation(np.dot(train[i,:],weights)+b)\n",
        "  print('Input: ' +chr(ord('A')+i),'prediction:'+ chr(ord('A')+array_to_int(mul)))"
      ],
      "execution_count": null,
      "outputs": [
        {
          "output_type": "stream",
          "text": [
            "Input: A prediction:A\n",
            "Input: B prediction:B\n",
            "Input: C prediction:C\n",
            "Input: D prediction:D\n",
            "Input: E prediction:E\n",
            "Input: F prediction:F\n",
            "Input: G prediction:G\n",
            "Input: H prediction:H\n",
            "Input: I prediction:I\n",
            "Input: J prediction:J\n",
            "Input: K prediction:K\n",
            "Input: L prediction:L\n",
            "Input: M prediction:M\n",
            "Input: N prediction:N\n",
            "Input: O prediction:O\n",
            "Input: P prediction:P\n",
            "Input: Q prediction:Q\n",
            "Input: R prediction:R\n",
            "Input: S prediction:S\n",
            "Input: T prediction:T\n",
            "Input: U prediction:U\n",
            "Input: V prediction:V\n",
            "Input: W prediction:W\n",
            "Input: X prediction:X\n",
            "Input: Y prediction:Y\n",
            "Input: Z prediction:Z\n"
          ],
          "name": "stdout"
        }
      ]
    },
    {
      "cell_type": "code",
      "metadata": {
        "id": "txTHUPCSaRsB"
      },
      "source": [
        "# training weights for alphabet recognition\n",
        "train,output=generate_training_matrix(case=\"digit\")\n",
        "parameters=initalize_parameters()\n",
        "weights=parameters[\"w\"]\n",
        "b=parameters[\"b\"]\n",
        "alpha=1\n",
        "for k in range(0,7):\n",
        "  for j in range(0,10):\n",
        "    mul=activation(np.dot(train[j,:],weights)+b)\n",
        "    for i in range(0,mul.size):\n",
        "      if mul[0,i]!=output[j,i]:\n",
        "        weights[:,i]= weights[:,i]+alpha*output[j,i]*train[j,:]\n",
        "        b[0,i]=b[0,i]+alpha*output[j,i]"
      ],
      "execution_count": null,
      "outputs": []
    },
    {
      "cell_type": "code",
      "metadata": {
        "colab": {
          "base_uri": "https://localhost:8080/"
        },
        "id": "nGthlJctat3b",
        "outputId": "c286adee-70bd-4954-d277-b64b281cf141"
      },
      "source": [
        " ## Validation \n",
        " for i in range(0,10):\n",
        "  mul=activation(np.dot(train[i,:],weights)+b)\n",
        "  print('Input: ' +str(i),'prediction:'+ str(array_to_int(mul)))"
      ],
      "execution_count": null,
      "outputs": [
        {
          "output_type": "stream",
          "text": [
            "Input: 0 prediction:[0]\n",
            "Input: 1 prediction:[1]\n",
            "Input: 2 prediction:[2]\n",
            "Input: 3 prediction:[3]\n",
            "Input: 4 prediction:[4]\n",
            "Input: 5 prediction:[5]\n",
            "Input: 6 prediction:[6]\n",
            "Input: 7 prediction:[7]\n",
            "Input: 8 prediction:[8]\n",
            "Input: 9 prediction:[9]\n"
          ],
          "name": "stdout"
        }
      ]
    }
  ]
}