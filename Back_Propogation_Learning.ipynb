{
  "nbformat": 4,
  "nbformat_minor": 0,
  "metadata": {
    "colab": {
      "name": "Back_Propogation_Learning.ipynb",
      "provenance": [],
      "collapsed_sections": [],
      "authorship_tag": "ABX9TyNmIfH5ClfJOSp1F4IoIqHZ",
      "include_colab_link": true
    },
    "kernelspec": {
      "name": "python3",
      "display_name": "Python 3"
    },
    "language_info": {
      "name": "python"
    }
  },
  "cells": [
    {
      "cell_type": "markdown",
      "metadata": {
        "id": "view-in-github",
        "colab_type": "text"
      },
      "source": [
        "<a href=\"https://colab.research.google.com/github/skylum1/soft_computing/blob/main/Back_Propogation_Learning.ipynb\" target=\"_parent\"><img src=\"https://colab.research.google.com/assets/colab-badge.svg\" alt=\"Open In Colab\"/></a>"
      ]
    },
    {
      "cell_type": "markdown",
      "metadata": {
        "id": "15ywz5cfD6u0"
      },
      "source": [
        " Using Back propogation to recognise digits"
      ]
    },
    {
      "cell_type": "code",
      "metadata": {
        "id": "3cFgLWX45R57"
      },
      "source": [
        "from __future__ import print_function\n",
        "import string\n",
        "from PIL import Image\n",
        "from PIL import ImageFont\n",
        "from PIL import ImageDraw\n",
        "import random\n",
        "import numpy as np"
      ],
      "execution_count": null,
      "outputs": []
    },
    {
      "cell_type": "code",
      "metadata": {
        "id": "GPAiu2bCVDhq"
      },
      "source": [
        "# to convert a font text to pixel matrix\n",
        "def pixelify(text, path='arialbd.ttf', fontsize=14):\n",
        "\n",
        "    font = ImageFont.truetype(path, fontsize) \n",
        "    w, h = font.getsize(text)  \n",
        "    h *= 2\n",
        "    image = Image.new('1', (w, h), 1)  \n",
        "    draw = ImageDraw.Draw(image)\n",
        "    draw.text((0, 0), text, font=font) \n",
        "    arr = np.asarray(image)\n",
        "    # print(arr)\n",
        "    arr = np.where(arr, 0, 1)\n",
        "    arr = arr[(arr != 0).any(axis=1)]\n",
        "    return arr"
      ],
      "execution_count": null,
      "outputs": []
    },
    {
      "cell_type": "code",
      "metadata": {
        "id": "K4vpcWewUhV9"
      },
      "source": [
        "def display(arr):\n",
        "    result = np.where(arr==1, '#', ' ')\n",
        "    \n",
        "    print('\\n'.join([''.join(row) for row in result]))"
      ],
      "execution_count": null,
      "outputs": []
    },
    {
      "cell_type": "code",
      "metadata": {
        "id": "vnf_q5b1WuBE"
      },
      "source": [
        "#getting font\n",
        "!gdown --id 115Aaq80dfn06REOJIeaAYEYVflc8NBJ5"
      ],
      "execution_count": null,
      "outputs": []
    },
    {
      "cell_type": "code",
      "metadata": {
        "colab": {
          "base_uri": "https://localhost:8080/"
        },
        "id": "jo9TPFEzWxhk",
        "outputId": "ec68d3cb-27c8-44c5-dea5-5a84db282f1f"
      },
      "source": [
        "# visualising traing examples\n",
        "digits='0 1 2'\n",
        "for i in digits:\n",
        "  arr = pixelify(i,path='/content/Roboto-Light.ttf',fontsize=10)\n",
        "  # print(arr)\n",
        "  display(arr)"
      ],
      "execution_count": null,
      "outputs": [
        {
          "output_type": "stream",
          "name": "stdout",
          "text": [
            "  ##  \n",
            " #  # \n",
            " #  # \n",
            " #  # \n",
            " #  # \n",
            " #  # \n",
            "  ##  \n",
            "\n",
            "  #   \n",
            " ##   \n",
            "  #   \n",
            "  #   \n",
            "  #   \n",
            "  #   \n",
            "  #   \n",
            "\n",
            "  ##  \n",
            " #  # \n",
            " #  # \n",
            "   #  \n",
            "  #   \n",
            " #    \n",
            " #### \n"
          ]
        }
      ]
    },
    {
      "cell_type": "code",
      "metadata": {
        "id": "MIBUxC_fY90h"
      },
      "source": [
        "def generate_training_matrix():\n",
        "  input =[]\n",
        "  required_outputs=[]\n",
        "  digits='0123456789'\n",
        "  for c in digits:\n",
        "    arr = pixelify(\n",
        "        c, \n",
        "        path='/content/Roboto-Light.ttf', \n",
        "        fontsize=10)\n",
        "    arr=arr.reshape(-1,)\n",
        "    input.append(arr)\n",
        "    i=ord(c)-ord('0')\n",
        "    ls=np.array([int(dc) for dc in bin(i)[2:]])\n",
        "    ls=np.where(ls,1,0)\n",
        "    ls=np.pad(ls,(4-ls.shape[0],0 ), 'constant',constant_values=(0,0))\n",
        "    required_outputs.append(ls)\n",
        "\n",
        "  yt=np.asarray(input)\n",
        "  ls=np.asarray(required_outputs)\n",
        "  return yt,ls\n",
        "\n"
      ],
      "execution_count": null,
      "outputs": []
    },
    {
      "cell_type": "code",
      "metadata": {
        "id": "9YL0ttIIahIJ"
      },
      "source": [
        "def initialize_parameters(ni, nh, no):    \n",
        "    np.random.seed(1)\n",
        "    W1 = np.random.randn(nh,ni)*0.01\n",
        "    b1 = np.zeros((nh,1))\n",
        "    W2 = np.random.randn(no,nh)*0.01\n",
        "    b2 = np.zeros((no,1))\n",
        "    parameters = {\"W1\": W1,\n",
        "                  \"b1\": b1,\n",
        "                  \"W2\": W2,\n",
        "                  \"b2\": b2}\n",
        "    return parameters  "
      ],
      "execution_count": null,
      "outputs": []
    },
    {
      "cell_type": "code",
      "metadata": {
        "id": "9ZtF61LlZthR"
      },
      "source": [
        "inputs,outputs = generate_training_matrix()\n",
        "number_hidden_units=3\n",
        "number_input_units=inputs[0].size\n",
        "number_output_units=outputs[0].size\n",
        "\n",
        "  "
      ],
      "execution_count": null,
      "outputs": []
    },
    {
      "cell_type": "code",
      "metadata": {
        "id": "PdZx-gAXYbI6"
      },
      "source": [
        "parameters = initialize_parameters(number_input_units,number_hidden_units,number_output_units)"
      ],
      "execution_count": null,
      "outputs": []
    },
    {
      "cell_type": "code",
      "metadata": {
        "id": "NX3Af-7NqCTS"
      },
      "source": [
        "def linear_forward(A, W, b):\n",
        "    Z = np.dot(W,A)+b    \n",
        "    cache = (A, W, b)\n",
        "    return Z, cache"
      ],
      "execution_count": null,
      "outputs": []
    },
    {
      "cell_type": "code",
      "metadata": {
        "id": "9PE5aVw9xBoi"
      },
      "source": [
        "def sigmoid(Z):\n",
        "    A = 1/(1+np.exp(-Z))\n",
        "    cache = Z \n",
        "    return A, cache"
      ],
      "execution_count": null,
      "outputs": []
    },
    {
      "cell_type": "code",
      "metadata": {
        "id": "59em9xfUqSac"
      },
      "source": [
        "def activation_forward(A_prev, W, b):\n",
        "    Z, linear_cache = linear_forward(A_prev, W, b)\n",
        "    A, activation_cache = sigmoid(Z)\n",
        "    cache = (linear_cache, activation_cache)\n",
        "    return A, cache"
      ],
      "execution_count": null,
      "outputs": []
    },
    {
      "cell_type": "code",
      "metadata": {
        "id": "JLNhY182qrie"
      },
      "source": [
        "def model_forward(X, parameters):\n",
        "    caches = []\n",
        "    A = X\n",
        "    L = len(parameters)-1\n",
        "    for l in range(1, L):\n",
        "        A_prev = A \n",
        "        A, cache = activation_forward(A_prev, parameters['W' + str(l)], parameters['b' + str(l)])\n",
        "        caches.append(cache)          \n",
        "    return A, caches"
      ],
      "execution_count": null,
      "outputs": []
    },
    {
      "cell_type": "code",
      "metadata": {
        "id": "nszlunASy5rk"
      },
      "source": [
        " A, cache = activation_forward(inputs[0].reshape(-1,1), parameters['W1'], parameters['b1'])"
      ],
      "execution_count": null,
      "outputs": []
    },
    {
      "cell_type": "code",
      "metadata": {
        "id": "57NiYQz776le"
      },
      "source": [
        "def sigmoid_backward(dA, cache):\n",
        "    Z = cache\n",
        "    s = 1/(1+np.exp(-Z))\n",
        "    dZ = dA * s * (1-s)\n",
        "    return dZ\n"
      ],
      "execution_count": null,
      "outputs": []
    },
    {
      "cell_type": "code",
      "metadata": {
        "id": "h_rs5mhx7OWF"
      },
      "source": [
        "def linear_backward(dZ, cache):\n",
        "    A_prev, W, b = cache\n",
        "    m = A_prev.shape[1]\n",
        "    dW = np.dot(dZ,A_prev.T)/m\n",
        "    db = np.sum(dZ,axis=1,keepdims=True)/m\n",
        "    dA_prev = np.dot(W.T,dZ)\n",
        "    return dA_prev, dW, db"
      ],
      "execution_count": null,
      "outputs": []
    },
    {
      "cell_type": "code",
      "metadata": {
        "id": "PllegKtI343b"
      },
      "source": [
        "def linear_activation_backward(dA, cache):\n",
        "    linear_cache, activation_cache = cache\n",
        "    dZ =  sigmoid_backward(dA, activation_cache)\n",
        "    dA_prev, dW, db =  linear_backward(dZ, linear_cache)\n",
        "    return dA_prev, dW, db"
      ],
      "execution_count": null,
      "outputs": []
    },
    {
      "cell_type": "code",
      "metadata": {
        "id": "zQpTPIcUrfK8"
      },
      "source": [
        "def model_backward(AL, Y, caches):\n",
        "    grads = {}\n",
        "    L = len(caches)\n",
        "    m = AL.shape[1]\n",
        "    Y = Y.reshape(AL.shape) \n",
        "    dAL=Y-AL\n",
        "    current_cache = caches[L-1]\n",
        "    dA_prev_temp, dW_temp, db_temp = linear_activation_backward(dAL,current_cache)\n",
        "    grads[\"dA\" + str(L-1)] = dA_prev_temp\n",
        "    grads[\"dW\" + str(L)] =dW_temp \n",
        "    grads[\"db\" + str(L)] =db_temp\n",
        "    for l in reversed(range(L-1)):\n",
        "        current_cache = caches[l]\n",
        "        dA_prev_temp, dW_temp, db_temp = linear_activation_backward(grads[\"dA\" + str(l+1)],current_cache )\n",
        "        grads[\"dA\" + str(l)] =dA_prev_temp\n",
        "        grads[\"dW\" + str(l + 1)] = dW_temp\n",
        "        grads[\"db\" + str(l + 1)] =db_temp\n",
        "    return grads"
      ],
      "execution_count": null,
      "outputs": []
    },
    {
      "cell_type": "code",
      "metadata": {
        "id": "vtD8wy_z9G9V"
      },
      "source": [
        "\n",
        "def update_parameters(params, grads, learning_rate):\n",
        "    parameters = params.copy()\n",
        "    L = len(parameters)-2\n",
        "    for l in range(L):\n",
        "        parameters[\"W\" + str(l+1)] = parameters[\"W\" + str(l+1)]+learning_rate* grads[\"dW\"+str(l+1)]\n",
        "        parameters[\"b\" + str(l+1)] =parameters[\"b\" + str(l+1)]+learning_rate* grads[\"db\"+str(l+1)]\n",
        "    return parameters"
      ],
      "execution_count": null,
      "outputs": []
    },
    {
      "cell_type": "code",
      "metadata": {
        "id": "n_I2FNj49xzf"
      },
      "source": [
        "# trainning \n",
        "for i in range(0,1000):\n",
        "  for j in range(0,10):\n",
        "    y,caches=model_forward(inputs[j].reshape(-1,1),parameters)\n",
        "    grads=model_backward(y,outputs[j],caches)\n",
        "    parameters=update_parameters(parameters,grads,0.5)\n"
      ],
      "execution_count": null,
      "outputs": []
    },
    {
      "cell_type": "code",
      "metadata": {
        "id": "-TsYZoLdA-m3"
      },
      "source": [
        "def activation(ar,theta=0.2):\n",
        "  for i in range(ar.size): \n",
        "    if ar[i]>=theta:\n",
        "       ar[i]= 1\n",
        "    else: \n",
        "     ar[i]= 0;  \n",
        "  return ar\n"
      ],
      "execution_count": null,
      "outputs": []
    },
    {
      "cell_type": "code",
      "metadata": {
        "id": "cIccc3_KBLoh"
      },
      "source": [
        "def array_to_int(arr):\n",
        "  b=np.where(arr==1,1,0)\n",
        "  ans=b.dot(1 << np.arange(b.size)[::-1])\n",
        "  return ans\n",
        "    "
      ],
      "execution_count": null,
      "outputs": []
    },
    {
      "cell_type": "code",
      "metadata": {
        "colab": {
          "base_uri": "https://localhost:8080/"
        },
        "id": "Q8XG3qR3Ah--",
        "outputId": "324f68b7-580a-46e3-8b60-c71065bd25a3"
      },
      "source": [
        " ## Validation \n",
        " for i in range(0,10):\n",
        "    y,caches=model_forward(inputs[i].reshape(-1,1),parameters)\n",
        "    mul=activation(y.squeeze(),theta=0.5)\n",
        "    print('Input: ' +str(i),'prediction:'+ str(array_to_int(mul)))"
      ],
      "execution_count": null,
      "outputs": [
        {
          "output_type": "stream",
          "name": "stdout",
          "text": [
            "Input: 0 prediction:0\n",
            "Input: 1 prediction:1\n",
            "Input: 2 prediction:2\n",
            "Input: 3 prediction:3\n",
            "Input: 4 prediction:4\n",
            "Input: 5 prediction:5\n",
            "Input: 6 prediction:6\n",
            "Input: 7 prediction:7\n",
            "Input: 8 prediction:8\n",
            "Input: 9 prediction:9\n"
          ]
        }
      ]
    },
    {
      "cell_type": "code",
      "metadata": {
        "colab": {
          "base_uri": "https://localhost:8080/"
        },
        "id": "sK8bfUtj_omW",
        "outputId": "30982aee-c345-4494-e7e3-d975ff9d2fde"
      },
      "source": [
        " # outputs before activation\n",
        " for j in range(0,10):\n",
        "    y,caches=model_forward(inputs[j].reshape(-1,1),parameters)\n",
        "    print(y.squeeze())\n",
        "    print(outputs[j])\n"
      ],
      "execution_count": null,
      "outputs": [
        {
          "output_type": "stream",
          "name": "stdout",
          "text": [
            "[0.09230073 0.09241207 0.04989085 0.02242182]\n",
            "[0 0 0 0]\n",
            "[0.06908304 0.0690052  0.0341838  0.99882652]\n",
            "[0 0 0 1]\n",
            "[0.02974469 0.06609642 0.95728585 0.01138124]\n",
            "[0 0 1 0]\n",
            "[0.01680511 0.06320134 0.94915944 0.99345213]\n",
            "[0 0 1 1]\n",
            "[1.04098074e-05 9.98600000e-01 4.43033121e-02 1.55382069e-03]\n",
            "[0 1 0 0]\n",
            "[1.77238626e-06 9.99350848e-01 1.09091135e-01 9.56869896e-01]\n",
            "[0 1 0 1]\n",
            "[2.51323060e-04 8.84363926e-01 8.85607456e-01 5.13481094e-02]\n",
            "[0 1 1 0]\n",
            "[6.23918146e-05 9.36281763e-01 9.36122786e-01 9.87690886e-01]\n",
            "[0 1 1 1]\n",
            "[9.53790144e-01 7.02065043e-04 3.66936070e-02 5.32361892e-02]\n",
            "[1 0 0 0]\n",
            "[0.88313063 0.00107717 0.05876095 0.94711992]\n",
            "[1 0 0 1]\n"
          ]
        }
      ]
    }
  ]
}